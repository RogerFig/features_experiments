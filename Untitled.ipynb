{
 "cells": [
  {
   "cell_type": "code",
   "execution_count": 7,
   "metadata": {},
   "outputs": [],
   "source": [
    "import pandas as pd\n",
    "import os\n",
    "import ast"
   ]
  },
  {
   "cell_type": "code",
   "execution_count": 8,
   "metadata": {},
   "outputs": [],
   "source": [
    "revs = [os.path.join(path, nome) for path, _, nomes in os.walk('corpus') for nome in nomes if nome.endswith('.json')]"
   ]
  },
  {
   "cell_type": "code",
   "execution_count": 39,
   "metadata": {},
   "outputs": [
    {
     "data": {
      "text/plain": [
       "'nss foi o melhor jogo competitivo que ja joguei bem legal mas..... tem hora que vc morre ai se fica mo com raiva que se morreu kkkk'"
      ]
     },
     "execution_count": 39,
     "metadata": {},
     "output_type": "execute_result"
    }
   ],
   "source": [
    "lista_out = []\n",
    "for p in revs:\n",
    "    with open(p) as rev:\n",
    "        lista_out.append([p.split('/')[1],ast.literal_eval(rev.read())])\n",
    "lista_out[:1]\n",
    "df_out = pd.DataFrame(lista_out,columns=['domain','review'])\n",
    "# for l in lista_out:\n",
    "#     df = pd.DataFrame(l, columns=['domain''review'])\n",
    "#     df_out = df_out.append(df)\n",
    "df_out.iloc[10100]['review']['text']"
   ]
  }
 ],
 "metadata": {
  "kernelspec": {
   "display_name": "Python 3",
   "language": "python",
   "name": "python3"
  },
  "language_info": {
   "codemirror_mode": {
    "name": "ipython",
    "version": 3
   },
   "file_extension": ".py",
   "mimetype": "text/x-python",
   "name": "python",
   "nbconvert_exporter": "python",
   "pygments_lexer": "ipython3",
   "version": "3.7.3"
  }
 },
 "nbformat": 4,
 "nbformat_minor": 2
}
