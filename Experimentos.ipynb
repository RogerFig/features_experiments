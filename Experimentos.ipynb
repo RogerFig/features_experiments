{
 "cells": [
  {
   "cell_type": "markdown",
   "metadata": {},
   "source": [
    "# Carregando Corpus"
   ]
  },
  {
   "cell_type": "code",
   "execution_count": 15,
   "metadata": {},
   "outputs": [],
   "source": [
    "import pandas as pd\n",
    "import review_lenght_features as rlf\n",
    "import numpy as np\n",
    "import matplotlib.pyplot as plt\n",
    "import seaborn as sns"
   ]
  },
  {
   "cell_type": "code",
   "execution_count": 34,
   "metadata": {},
   "outputs": [
    {
     "data": {
      "text/html": [
       "<div>\n",
       "<style scoped>\n",
       "    .dataframe tbody tr th:only-of-type {\n",
       "        vertical-align: middle;\n",
       "    }\n",
       "\n",
       "    .dataframe tbody tr th {\n",
       "        vertical-align: top;\n",
       "    }\n",
       "\n",
       "    .dataframe thead th {\n",
       "        text-align: right;\n",
       "    }\n",
       "</style>\n",
       "<table border=\"1\" class=\"dataframe\">\n",
       "  <thead>\n",
       "    <tr style=\"text-align: right;\">\n",
       "      <th></th>\n",
       "      <th>domain</th>\n",
       "      <th>object</th>\n",
       "      <th>author</th>\n",
       "      <th>text</th>\n",
       "      <th>likes</th>\n",
       "      <th>unlikes</th>\n",
       "      <th>stars</th>\n",
       "      <th>date</th>\n",
       "      <th>collect_date</th>\n",
       "      <th>replies</th>\n",
       "      <th>favorite</th>\n",
       "      <th>want_see</th>\n",
       "      <th>recommend</th>\n",
       "      <th>see</th>\n",
       "      <th>internal_id</th>\n",
       "      <th>helpfulness</th>\n",
       "    </tr>\n",
       "  </thead>\n",
       "  <tbody>\n",
       "    <tr>\n",
       "      <th>0</th>\n",
       "      <td>movies</td>\n",
       "      <td>eu-e-orson-welles-t14094</td>\n",
       "      <td>26446</td>\n",
       "      <td>coitado do orson welles, os fãns do zac efron ...</td>\n",
       "      <td>1</td>\n",
       "      <td>0</td>\n",
       "      <td>0</td>\n",
       "      <td>8 anos atrás</td>\n",
       "      <td>17-04-2019 01:48</td>\n",
       "      <td>0</td>\n",
       "      <td>0</td>\n",
       "      <td>0</td>\n",
       "      <td></td>\n",
       "      <td>0</td>\n",
       "      <td>663107</td>\n",
       "      <td>1.0</td>\n",
       "    </tr>\n",
       "    <tr>\n",
       "      <th>1</th>\n",
       "      <td>movies</td>\n",
       "      <td>hope-t99814</td>\n",
       "      <td>10803</td>\n",
       "      <td>Acabei de ver esse filme...Estou destruída, ch...</td>\n",
       "      <td>6</td>\n",
       "      <td>0</td>\n",
       "      <td>5</td>\n",
       "      <td>8 meses atrás</td>\n",
       "      <td>20-04-2019 02:22</td>\n",
       "      <td>0</td>\n",
       "      <td>0</td>\n",
       "      <td>0</td>\n",
       "      <td></td>\n",
       "      <td>1</td>\n",
       "      <td>799405</td>\n",
       "      <td>1.0</td>\n",
       "    </tr>\n",
       "    <tr>\n",
       "      <th>2</th>\n",
       "      <td>movies</td>\n",
       "      <td>no-limite-do-amanha-t48262</td>\n",
       "      <td>10184</td>\n",
       "      <td>Gostei demais! Me surpreendi pelo quanto esse ...</td>\n",
       "      <td>2</td>\n",
       "      <td>0</td>\n",
       "      <td>4</td>\n",
       "      <td>4 anos atrás</td>\n",
       "      <td>20-04-2019 07:59</td>\n",
       "      <td>0</td>\n",
       "      <td>1</td>\n",
       "      <td>0</td>\n",
       "      <td></td>\n",
       "      <td>1</td>\n",
       "      <td>1072629</td>\n",
       "      <td>1.0</td>\n",
       "    </tr>\n",
       "    <tr>\n",
       "      <th>3</th>\n",
       "      <td>movies</td>\n",
       "      <td>a-incrivel-historia-de-adaline-t43781</td>\n",
       "      <td>30403</td>\n",
       "      <td>Legalzin.Seria mais legal se o final não fosse...</td>\n",
       "      <td>11</td>\n",
       "      <td>0</td>\n",
       "      <td>0</td>\n",
       "      <td>3 anos atrás</td>\n",
       "      <td>20-04-2019 02:54</td>\n",
       "      <td>0</td>\n",
       "      <td>0</td>\n",
       "      <td>0</td>\n",
       "      <td></td>\n",
       "      <td>1</td>\n",
       "      <td>99479</td>\n",
       "      <td>1.0</td>\n",
       "    </tr>\n",
       "    <tr>\n",
       "      <th>4</th>\n",
       "      <td>movies</td>\n",
       "      <td>touro-indomavel-t1949</td>\n",
       "      <td>575</td>\n",
       "      <td>Pela enésima vez, obrigado cinemark!</td>\n",
       "      <td>3</td>\n",
       "      <td>0</td>\n",
       "      <td>4</td>\n",
       "      <td>4 anos atrás</td>\n",
       "      <td>20-04-2019 14:17</td>\n",
       "      <td>0</td>\n",
       "      <td>1</td>\n",
       "      <td>0</td>\n",
       "      <td></td>\n",
       "      <td>1</td>\n",
       "      <td>1680056</td>\n",
       "      <td>1.0</td>\n",
       "    </tr>\n",
       "  </tbody>\n",
       "</table>\n",
       "</div>"
      ],
      "text/plain": [
       "   domain                                 object  author  \\\n",
       "0  movies               eu-e-orson-welles-t14094   26446   \n",
       "1  movies                            hope-t99814   10803   \n",
       "2  movies             no-limite-do-amanha-t48262   10184   \n",
       "3  movies  a-incrivel-historia-de-adaline-t43781   30403   \n",
       "4  movies                  touro-indomavel-t1949     575   \n",
       "\n",
       "                                                text  likes  unlikes stars  \\\n",
       "0  coitado do orson welles, os fãns do zac efron ...      1        0     0   \n",
       "1  Acabei de ver esse filme...Estou destruída, ch...      6        0     5   \n",
       "2  Gostei demais! Me surpreendi pelo quanto esse ...      2        0     4   \n",
       "3  Legalzin.Seria mais legal se o final não fosse...     11        0     0   \n",
       "4               Pela enésima vez, obrigado cinemark!      3        0     4   \n",
       "\n",
       "            date      collect_date replies favorite want_see recommend see  \\\n",
       "0   8 anos atrás  17-04-2019 01:48       0        0        0             0   \n",
       "1  8 meses atrás  20-04-2019 02:22       0        0        0             1   \n",
       "2   4 anos atrás  20-04-2019 07:59       0        1        0             1   \n",
       "3   3 anos atrás  20-04-2019 02:54       0        0        0             1   \n",
       "4   4 anos atrás  20-04-2019 14:17       0        1        0             1   \n",
       "\n",
       "   internal_id  helpfulness  \n",
       "0       663107          1.0  \n",
       "1       799405          1.0  \n",
       "2      1072629          1.0  \n",
       "3        99479          1.0  \n",
       "4      1680056          1.0  "
      ]
     },
     "execution_count": 34,
     "metadata": {},
     "output_type": "execute_result"
    }
   ],
   "source": [
    "df_dev_filmes = pd.read_pickle('/home/rogerio/workspace/Corpus Gigante/corpus_csvs_pickles/corpus_splited/dev_filmes.pkl')\n",
    "df_dev_apps = pd.read_pickle('/home/rogerio/workspace/Corpus Gigante/corpus_csvs_pickles/corpus_splited/dev_apps.pkl')\n",
    "df_dev_filmes.head()"
   ]
  },
  {
   "cell_type": "code",
   "execution_count": 9,
   "metadata": {},
   "outputs": [],
   "source": [
    "features = []\n",
    "\n",
    "for index, row in df_dev_apps.iterrows():\n",
    "    num_sents = rlf.get_num_sents(row['text'])\n",
    "    num_words = rlf.get_num_words(row['text'])\n",
    "    avg_sent_len = rlf.get_avg_sent_len(row['text'])\n",
    "    stars = row['stars']\n",
    "    helpfulness = row['helpfulness']\n",
    "    features.append([num_sents, num_words, avg_sent_len, stars, helpfulness])\n",
    "\n",
    "df_res_apps = pd.DataFrame(features, columns=['sents','words','avg_sent_len','stars','helpfulness'])\n",
    "\n",
    "features = []\n",
    "for index, row in df_dev_filmes.iterrows():\n",
    "    num_sents = rlf.get_num_sents(row['text'])\n",
    "    num_words = rlf.get_num_words(row['text'])\n",
    "    avg_sent_len = rlf.get_avg_sent_len(row['text'])\n",
    "    stars = row['stars']\n",
    "    helpfulness = row['helpfulness']\n",
    "    features.append([num_sents, num_words, avg_sent_len, stars, helpfulness])\n",
    "    \n",
    "df_res_filmes = pd.DataFrame(features, columns=['sents','words','avg_sent_len','stars','helpfulness'])"
   ]
  },
  {
   "cell_type": "markdown",
   "metadata": {},
   "source": [
    "# Quantidade de Palavras"
   ]
  },
  {
   "cell_type": "markdown",
   "metadata": {},
   "source": [
    "## Reviews Úteis"
   ]
  },
  {
   "cell_type": "code",
   "execution_count": 25,
   "metadata": {},
   "outputs": [
    {
     "data": {
      "text/plain": [
       "Text(0, 0.5, 'Valores de Palavras')"
      ]
     },
     "execution_count": 25,
     "metadata": {},
     "output_type": "execute_result"
    },
    {
     "data": {
      "image/png": "[encoded data removed]",
      "text/plain": [
       "<Figure size 864x432 with 1 Axes>"
      ]
     },
     "metadata": {
      "needs_background": "light"
     },
     "output_type": "display_data"
    }
   ],
   "source": [
    "plt.figure(figsize=(12,6))\n",
    "fig = sns.boxplot(x='words',data=df_res_apps[df_res_apps['helpfulness'] == 1.0], orient='v', color='#ffffb2')\n",
    "fig.set_title('BoxPlot da Quantidade de Palavras')\n",
    "fig.set_ylabel('Valores de Palavras')"
   ]
  },
  {
   "cell_type": "markdown",
   "metadata": {},
   "source": [
    "## Reviews não úteis"
   ]
  },
  {
   "cell_type": "code",
   "execution_count": 26,
   "metadata": {
    "scrolled": false
   },
   "outputs": [
    {
     "data": {
      "text/plain": [
       "Text(0, 0.5, 'Valores de Palavras')"
      ]
     },
     "execution_count": 26,
     "metadata": {},
     "output_type": "execute_result"
    },
    {
     "data": {
      "image/png": "[encoded data removed]",
      "text/plain": [
       "<Figure size 864x432 with 1 Axes>"
      ]
     },
     "metadata": {
      "needs_background": "light"
     },
     "output_type": "display_data"
    }
   ],
   "source": [
    "plt.figure(figsize=(12,6))\n",
    "fig = sns.boxplot(x='words',data=df_res_apps[df_res_apps['helpfulness'] == 0.0], orient='v', color='#ffffb2')\n",
    "fig.set_title('BoxPlot da Quantidade de Palavras')\n",
    "fig.set_ylabel('Valores de Palavras')"
   ]
  },
  {
   "cell_type": "markdown",
   "metadata": {},
   "source": [
    "# Quantidade de Sentenças"
   ]
  },
  {
   "cell_type": "markdown",
   "metadata": {},
   "source": [
    "## Reviews Úteis"
   ]
  },
  {
   "cell_type": "code",
   "execution_count": 28,
   "metadata": {},
   "outputs": [
    {
     "data": {
      "text/plain": [
       "Text(0, 0.5, 'Valores de Sentenças')"
      ]
     },
     "execution_count": 28,
     "metadata": {},
     "output_type": "execute_result"
    },
    {
     "data": {
      "image/png": "[encoded data removed]",
      "text/plain": [
       "<Figure size 864x432 with 1 Axes>"
      ]
     },
     "metadata": {
      "needs_background": "light"
     },
     "output_type": "display_data"
    }
   ],
   "source": [
    "plt.figure(figsize=(12,6))\n",
    "fig = sns.boxplot(x='words',data=df_res_apps[df_res_apps['helpfulness'] == 1.0], orient='v', color='#ffffb2')\n",
    "fig.set_title('BoxPlot da Quantidade de Sentenças')\n",
    "fig.set_ylabel('Valores de Sentenças')"
   ]
  },
  {
   "cell_type": "markdown",
   "metadata": {},
   "source": [
    "## Reviews não úteis"
   ]
  },
  {
   "cell_type": "code",
   "execution_count": 27,
   "metadata": {},
   "outputs": [
    {
     "data": {
      "text/plain": [
       "Text(0, 0.5, 'Valores de Sentenças')"
      ]
     },
     "execution_count": 27,
     "metadata": {},
     "output_type": "execute_result"
    },
    {
     "data": {
      "image/png": "[encoded data removed]",
      "text/plain": [
       "<Figure size 864x432 with 1 Axes>"
      ]
     },
     "metadata": {
      "needs_background": "light"
     },
     "output_type": "display_data"
    }
   ],
   "source": [
    "plt.figure(figsize=(12,6))\n",
    "fig = sns.boxplot(x='sents',data=df_res_apps[df_res_apps['helpfulness'] == 0.0], orient='v', color='#ffffb2')\n",
    "fig.set_title('BoxPlot da Quantidade de Sentenças')\n",
    "fig.set_ylabel('Valores de Sentenças')"
   ]
  },
  {
   "cell_type": "markdown",
   "metadata": {},
   "source": [
    "# Média do tamanho das sentenças"
   ]
  },
  {
   "cell_type": "markdown",
   "metadata": {},
   "source": [
    "## Reviews Úteis"
   ]
  },
  {
   "cell_type": "code",
   "execution_count": 32,
   "metadata": {},
   "outputs": [
    {
     "data": {
      "text/plain": [
       "Text(0, 0.5, 'Valores de Média de Sentenças')"
      ]
     },
     "execution_count": 32,
     "metadata": {},
     "output_type": "execute_result"
    },
    {
     "data": {
      "image/png": "[encoded data removed]",
      "text/plain": [
       "<Figure size 864x432 with 1 Axes>"
      ]
     },
     "metadata": {
      "needs_background": "light"
     },
     "output_type": "display_data"
    }
   ],
   "source": [
    "plt.figure(figsize=(12,6))\n",
    "fig = sns.boxplot(x='avg_sent_len',data=df_res_apps[df_res_apps['helpfulness'] == 1.0], orient='v', color='#ffffb2')\n",
    "fig.set_title('BoxPlot da Quantidade de Média de Sentenças')\n",
    "fig.set_ylabel('Valores de Média de Sentenças')"
   ]
  },
  {
   "cell_type": "markdown",
   "metadata": {},
   "source": [
    "## Reviews não úteis"
   ]
  },
  {
   "cell_type": "code",
   "execution_count": 31,
   "metadata": {},
   "outputs": [
    {
     "data": {
      "text/plain": [
       "Text(0, 0.5, 'Valores de Média de Sentenças')"
      ]
     },
     "execution_count": 31,
     "metadata": {},
     "output_type": "execute_result"
    },
    {
     "data": {
      "image/png": "[encoded data removed]",
      "text/plain": [
       "<Figure size 864x432 with 1 Axes>"
      ]
     },
     "metadata": {
      "needs_background": "light"
     },
     "output_type": "display_data"
    }
   ],
   "source": [
    "plt.figure(figsize=(12,6))\n",
    "fig = sns.boxplot(x='avg_sent_len',data=df_res_apps[df_res_apps['helpfulness'] == 0.0], orient='v', color='#ffffb2')\n",
    "fig.set_title('BoxPlot da Quantidade de Média de Sentenças')\n",
    "fig.set_ylabel('Valores de Média de Sentenças')"
   ]
  },
  {
   "cell_type": "markdown",
   "metadata": {},
   "source": [
    "# Quantidade de Estrelas"
   ]
  },
  {
   "cell_type": "markdown",
   "metadata": {},
   "source": [
    "## Reviews Úteis"
   ]
  },
  {
   "cell_type": "code",
   "execution_count": 30,
   "metadata": {},
   "outputs": [
    {
     "data": {
      "text/plain": [
       "Text(0, 0.5, 'Valores de Estrelas')"
      ]
     },
     "execution_count": 30,
     "metadata": {},
     "output_type": "execute_result"
    },
    {
     "data": {
      "image/png": "[encoded data removed]",
      "text/plain": [
       "<Figure size 864x432 with 1 Axes>"
      ]
     },
     "metadata": {
      "needs_background": "light"
     },
     "output_type": "display_data"
    }
   ],
   "source": [
    "plt.figure(figsize=(12,6))\n",
    "fig = sns.boxplot(x='stars',data=df_res_apps[df_res_apps['helpfulness'] == 1.0], orient='v', color='#ffffb2')\n",
    "fig.set_title('BoxPlot da Quantidade de Estrelas')\n",
    "fig.set_ylabel('Valores de Estrelas')"
   ]
  },
  {
   "cell_type": "markdown",
   "metadata": {},
   "source": [
    "## Reviews não úteis"
   ]
  },
  {
   "cell_type": "code",
   "execution_count": 29,
   "metadata": {},
   "outputs": [
    {
     "data": {
      "text/plain": [
       "Text(0, 0.5, 'Valores de Estrelas')"
      ]
     },
     "execution_count": 29,
     "metadata": {},
     "output_type": "execute_result"
    },
    {
     "data": {
      "image/png": "[encoded data removed]",
      "text/plain": [
       "<Figure size 864x432 with 1 Axes>"
      ]
     },
     "metadata": {
      "needs_background": "light"
     },
     "output_type": "display_data"
    }
   ],
   "source": [
    "plt.figure(figsize=(12,6))\n",
    "fig = sns.boxplot(x='stars',data=df_res_apps[df_res_apps['helpfulness'] == 0.0], orient='v', color='#ffffb2')\n",
    "fig.set_title('BoxPlot da Quantidade de Estrelas')\n",
    "fig.set_ylabel('Valores de Estrelas')"
   ]
  }
 ],
 "metadata": {
  "kernelspec": {
   "display_name": "Python 3",
   "language": "python",
   "name": "python3"
  },
  "language_info": {
   "codemirror_mode": {
    "name": "ipython",
    "version": 3
   },
   "file_extension": ".py",
   "mimetype": "text/x-python",
   "name": "python",
   "nbconvert_exporter": "python",
   "pygments_lexer": "ipython3",
   "version": "3.7.3"
  }
 },
 "nbformat": 4,
 "nbformat_minor": 2
}
